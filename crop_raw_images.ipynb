{
 "cells": [
  {
   "cell_type": "code",
   "execution_count": 1,
   "id": "1510d51a-1291-4187-b1c3-2911423c02df",
   "metadata": {},
   "outputs": [
    {
     "name": "stdout",
     "output_type": "stream",
     "text": [
      "2.6.0\n",
      "The following GPU devices are available: /device:GPU:0\n"
     ]
    },
    {
     "name": "stderr",
     "output_type": "stream",
     "text": [
      "2021-09-15 21:49:38.997048: I tensorflow/core/platform/cpu_feature_guard.cc:142] This TensorFlow binary is optimized with oneAPI Deep Neural Network Library (oneDNN) to use the following CPU instructions in performance-critical operations:  AVX2 FMA\n",
      "To enable them in other operations, rebuild TensorFlow with the appropriate compiler flags.\n",
      "2021-09-15 21:49:39.040102: I tensorflow/stream_executor/cuda/cuda_gpu_executor.cc:937] successful NUMA node read from SysFS had negative value (-1), but there must be at least one NUMA node, so returning NUMA node zero\n",
      "2021-09-15 21:49:39.046906: I tensorflow/stream_executor/cuda/cuda_gpu_executor.cc:937] successful NUMA node read from SysFS had negative value (-1), but there must be at least one NUMA node, so returning NUMA node zero\n",
      "2021-09-15 21:49:39.047156: I tensorflow/stream_executor/cuda/cuda_gpu_executor.cc:937] successful NUMA node read from SysFS had negative value (-1), but there must be at least one NUMA node, so returning NUMA node zero\n",
      "2021-09-15 21:49:39.719550: I tensorflow/stream_executor/cuda/cuda_gpu_executor.cc:937] successful NUMA node read from SysFS had negative value (-1), but there must be at least one NUMA node, so returning NUMA node zero\n",
      "2021-09-15 21:49:39.719796: I tensorflow/stream_executor/cuda/cuda_gpu_executor.cc:937] successful NUMA node read from SysFS had negative value (-1), but there must be at least one NUMA node, so returning NUMA node zero\n",
      "2021-09-15 21:49:39.720015: I tensorflow/stream_executor/cuda/cuda_gpu_executor.cc:937] successful NUMA node read from SysFS had negative value (-1), but there must be at least one NUMA node, so returning NUMA node zero\n",
      "2021-09-15 21:49:39.720193: I tensorflow/core/common_runtime/gpu/gpu_device.cc:1510] Created device /device:GPU:0 with 9 MB memory:  -> device: 0, name: GeForce GTX 1650 Ti, pci bus id: 0000:01:00.0, compute capability: 7.5\n"
     ]
    }
   ],
   "source": [
    "import os\n",
    "from glob import glob\n",
    "import random\n",
    "import time\n",
    "from tqdm import tqdm\n",
    "from PIL import Image\n",
    "\n",
    "import tensorflow as tf\n",
    "import tensorflow_hub as hub\n",
    "\n",
    "import pandas as pd\n",
    "\n",
    "def load_img(path):\n",
    "    img = tf.io.read_file(path)\n",
    "    img = tf.image.decode_jpeg(img, channels=3)\n",
    "    return img\n",
    "\n",
    "def analyse_picture(file, detector):\n",
    "    img = load_img(file)\n",
    "    converted_img  = tf.image.convert_image_dtype(img, tf.float32)[tf.newaxis, ...]\n",
    "    result = detector(converted_img)\n",
    "    result = {key:value.numpy() for key,value in result.items()}\n",
    "    dict_result = {\n",
    "        'classes' : [elt.decode(\"utf-8\")  for elt in result['detection_class_entities'].tolist()],\n",
    "        'detection_boxes' : result['detection_boxes'].tolist(),\n",
    "        'detection_scores' : result['detection_scores'].tolist()\n",
    "    }\n",
    "    dfp_result = pd.DataFrame(dict_result)\n",
    "    return dfp_result\n",
    "\n",
    "def crop_image(file, detector, debug=False):\n",
    "    new_file = None\n",
    "    dfp_results = analyse_picture(file, detector)\n",
    "    dfp_objects = dfp_results[(dfp_results['detection_scores'] >= 0.95) & (dfp_results['classes'].isin(['Car']))].reset_index(drop=True)\n",
    "    if debug:\n",
    "        print(dfp_objects)\n",
    "    if len(dfp_objects) == 1:\n",
    "        infos_car = dfp_objects.iloc[0].to_dict()\n",
    "        if debug:\n",
    "            print('Car cropped')\n",
    "            print(infos_car)\n",
    "        ymin, xmin, ymax, xmax = infos_car['detection_boxes']\n",
    "        img = Image.open(file)\n",
    "        width, height = img.size\n",
    "        crop_box = (xmin * width, ymin * height, xmax * width, ymax * height)\n",
    "        crop_box = map(int, crop_box)\n",
    "        img_cropped = img.crop((crop_box))\n",
    "\n",
    "        new_file = file.replace(\"_raw\", \"_cropped\")\n",
    "        if debug:\n",
    "            print(new_file)\n",
    "        os.makedirs(os.path.dirname(new_file), exist_ok=True)\n",
    "        img_cropped.save(new_file)\n",
    "    else:\n",
    "        if debug:\n",
    "            print('Nothing to crop')\n",
    "            \n",
    "    return new_file\n",
    "\n",
    "# Print Tensorflow version\n",
    "print(tf.__version__)\n",
    "\n",
    "# Check available GPU devices.\n",
    "print(\"The following GPU devices are available: %s\" % tf.test.gpu_device_name())"
   ]
  },
  {
   "cell_type": "code",
   "execution_count": 2,
   "id": "c27e9df6-9ede-489c-ad60-80817a199b51",
   "metadata": {},
   "outputs": [
    {
     "name": "stdout",
     "output_type": "stream",
     "text": [
      "INFO:tensorflow:Saver not created because there are no variables in the graph to restore\n"
     ]
    },
    {
     "name": "stderr",
     "output_type": "stream",
     "text": [
      "INFO:tensorflow:Saver not created because there are no variables in the graph to restore\n",
      "2021-09-13 11:01:04.397348: I tensorflow/compiler/mlir/mlir_graph_optimization_pass.cc:185] None of the MLIR Optimization Passes are enabled (registered 2)\n"
     ]
    }
   ],
   "source": [
    "# Load the model\n",
    "module_handle = \"https://tfhub.dev/google/faster_rcnn/openimages_v4/inception_resnet_v2/1\"\n",
    "detector = hub.load(module_handle).signatures['default']"
   ]
  },
  {
   "cell_type": "code",
   "execution_count": 12,
   "id": "07839598-7c6a-45eb-9d06-18940f1980c0",
   "metadata": {},
   "outputs": [
    {
     "name": "stdout",
     "output_type": "stream",
     "text": [
      "728\n"
     ]
    }
   ],
   "source": [
    "parent_folder = \"./data/pictures/testdata/\"\n",
    "child_folder = \"20210913_100_raw\"\n",
    "PATH = parent_folder + child_folder\n",
    "files = [y for x in os.walk(PATH) for y in glob(os.path.join(x[0], '*.jpg')) if '_checkpoints' not in y]\n",
    "print(len(files))"
   ]
  },
  {
   "cell_type": "code",
   "execution_count": 7,
   "id": "204b25ca-4d9c-4018-8166-74168a2b27bf",
   "metadata": {},
   "outputs": [
    {
     "data": {
      "text/plain": [
       "'./data/pictures/testdata/20210913_100_cropped/cadillac/4_38.jpg'"
      ]
     },
     "execution_count": 7,
     "metadata": {},
     "output_type": "execute_result"
    }
   ],
   "source": [
    "file = random.choice(files)\n",
    "crop_image(file, detector)"
   ]
  },
  {
   "cell_type": "code",
   "execution_count": 13,
   "id": "a060c016-e42c-4b2e-b945-ff3940760199",
   "metadata": {},
   "outputs": [
    {
     "name": "stderr",
     "output_type": "stream",
     "text": [
      "100%|███████████████████████████████████████| 728/728 [1:07:51<00:00,  5.59s/it]\n"
     ]
    }
   ],
   "source": [
    "for file in tqdm(files):\n",
    "    new_file = crop_image(file, detector)"
   ]
  },
  {
   "cell_type": "code",
   "execution_count": null,
   "id": "4d826555-7e2f-4985-b84c-4c5ac7cd4c31",
   "metadata": {},
   "outputs": [],
   "source": []
  }
 ],
 "metadata": {
  "kernelspec": {
   "display_name": "dl_p37",
   "language": "python",
   "name": "dl_p37"
  },
  "language_info": {
   "codemirror_mode": {
    "name": "ipython",
    "version": 3
   },
   "file_extension": ".py",
   "mimetype": "text/x-python",
   "name": "python",
   "nbconvert_exporter": "python",
   "pygments_lexer": "ipython3",
   "version": "3.7.11"
  }
 },
 "nbformat": 4,
 "nbformat_minor": 5
}
